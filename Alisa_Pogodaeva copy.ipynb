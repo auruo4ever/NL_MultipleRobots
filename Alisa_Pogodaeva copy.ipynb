{
 "cells": [
  {
   "cell_type": "code",
   "execution_count": 1,
   "metadata": {},
   "outputs": [],
   "source": [
    "import tkinter as tk\n",
    "from tkinter import scrolledtext\n",
    "import spacy\n",
    "from spacy import displacy\n",
    "\n",
    "nlp = spacy.load(\"en_core_web_sm\")\n"
   ]
  },
  {
   "cell_type": "code",
   "execution_count": 2,
   "metadata": {},
   "outputs": [],
   "source": [
    "def display_input():\n",
    "    input_text = entry.get()\n",
    "    label.config(text=input_text)\n",
    "    \n",
    "    doc = nlp(input_text)\n",
    "    \n",
    "    # Clear previous results\n",
    "    result_text.delete(1.0, tk.END)\n",
    "    \n",
    "   \n",
    "    subjects_info = analyse_tree(doc)\n",
    "    # Insert the subjects and conjuncts information into the text area\n",
    "    result_text.insert(tk.END, subjects_info)\n"
   ]
  },
  {
   "cell_type": "code",
   "execution_count": 3,
   "metadata": {},
   "outputs": [],
   "source": [
    "def analyse_tree(doc):\n",
    "    all_data = []\n",
    "    \n",
    "    for token in doc:\n",
    "        if token.dep_ == \"ROOT\":  # Check if the token is a verb\n",
    "            verb_data = [token.text]  # Start with the verb itself\n",
    "            \n",
    "            # Find all nsubj associated with this verb\n",
    "            nsubj_list = []\n",
    "            for child in token.children:\n",
    "                if child.dep_ == \"nsubj\":\n",
    "                    # Collect the nsubj text\n",
    "                    subject_or_conj_list = [child.text]\n",
    "                    \n",
    "                    # Add any conjuncts associated with this nsubj\n",
    "                    for grandchild in child.children:\n",
    "                        if grandchild.dep_ == \"conj\":\n",
    "                            subject_or_conj_list.append(grandchild.text)\n",
    "\n",
    "                    nsubj_list.append(subject_or_conj_list)  # Add this nsubj and its conj to the list\n",
    "\n",
    "            # Append verb data and its corresponding nsubj/conj list to the main data\n",
    "            all_data.append([verb_data, nsubj_list])\n",
    "    \n",
    "    # Prepare the output for display\n",
    "    subjects_info = \"Verbs, nsubj and their conj\\n\"\n",
    "    subjects_info += \"-\" * 40 + \"\\n\"\n",
    "    \n",
    "    for verb, nsubj_data in all_data:\n",
    "        subjects_info += f\"Verb: {verb[0]}\\n\"\n",
    "        for nsubj in nsubj_data:\n",
    "            subjects_info += f\"  nsubj: {nsubj[0]}, conj: {', '.join(nsubj[1:]) if len(nsubj) > 1 else 'None'}\\n\"\n",
    "    \n",
    "    return subjects_info\n"
   ]
  },
  {
   "cell_type": "code",
   "execution_count": 4,
   "metadata": {},
   "outputs": [],
   "source": [
    "# Create the main window\n",
    "root = tk.Tk()\n",
    "label = tk.Label(root, text=\"Your input will appear here\", font=('Arial', 14))\n",
    "label.pack(pady=10)\n",
    "entry = tk.Entry(root, font=('Arial', 14))\n",
    "entry.pack(pady=10)\n",
    "button = tk.Button(root, text=\"Analyze\", command=display_input, font=('Arial', 14))\n",
    "button.pack(pady=10)\n",
    "result_text = scrolledtext.ScrolledText(root, wrap=tk.WORD, width=60, height=15, font=('Arial', 12))\n",
    "result_text.pack(pady=10)\n",
    "\n",
    "root.mainloop()"
   ]
  },
  {
   "attachments": {},
   "cell_type": "markdown",
   "metadata": {},
   "source": [
    "# Part 1: Foundations of infovis 🚀\n",
    "\n",
    "Let's get started with exploring some datasets with basic chart types!\n",
    "\n",
    "👉 This part has two TODOs (1.1, 1.2)."
   ]
  },
  {
   "attachments": {},
   "cell_type": "markdown",
   "metadata": {},
   "source": [
    "To get started, here are the references for the data we use for some examples: \n",
    "\n",
    "- \"Global air quality data provided by the World Health Organization\" | [Source: WHO](https://www.who.int/data/gho/data/themes/air-pollution/who-air-quality-database)\n",
    "\n",
    "- \"WHO regional groupings\" by income | [Source: WHO](https://cdn.who.int/media/docs/default-source/air-pollution-documents/air-quality-and-health/country-groupings-database-2022.pdf)"
   ]
  },
  {
   "attachments": {},
   "cell_type": "markdown",
   "metadata": {},
   "source": [
    "Let's load the dataset and have a first look:"
   ]
  }
 ],
 "metadata": {
  "kernelspec": {
   "display_name": "infovis-lecture",
   "language": "python",
   "name": "python3"
  },
  "language_info": {
   "codemirror_mode": {
    "name": "ipython",
    "version": 3
   },
   "file_extension": ".py",
   "mimetype": "text/x-python",
   "name": "python",
   "nbconvert_exporter": "python",
   "pygments_lexer": "ipython3",
   "version": "3.11.7"
  },
  "orig_nbformat": 4
 },
 "nbformat": 4,
 "nbformat_minor": 2
}
